{
 "cells": [
  {
   "cell_type": "markdown",
   "metadata": {},
   "source": [
    "1. Print the addition of these two variables."
   ]
  },
  {
   "cell_type": "code",
   "execution_count": 12,
   "metadata": {},
   "outputs": [
    {
     "name": "stdout",
     "output_type": "stream",
     "text": [
      "15\n"
     ]
    }
   ],
   "source": [
    "x = 5\n",
    "y = 10\n",
    "\n",
    "print(x + y)"
   ]
  },
  {
   "cell_type": "markdown",
   "metadata": {},
   "source": [
    "2. Write a Python function that takes a list of numbers and returns a new list containing only the even numbers."
   ]
  },
  {
   "cell_type": "code",
   "execution_count": 13,
   "metadata": {},
   "outputs": [
    {
     "name": "stdout",
     "output_type": "stream",
     "text": [
      "[2, 4]\n"
     ]
    }
   ],
   "source": [
    "numbers = [1, 2, 3, 4, 5]\n",
    "\n",
    "def filter_even_numbers(numbers):\n",
    "    return [num for num in numbers if num % 2 == 0]\n",
    "\n",
    "print(filter_even_numbers(numbers))"
   ]
  },
  {
   "cell_type": "markdown",
   "metadata": {},
   "source": [
    "3. What will be the output of the following code and why?"
   ]
  },
  {
   "cell_type": "code",
   "execution_count": 14,
   "metadata": {},
   "outputs": [
    {
     "name": "stdout",
     "output_type": "stream",
     "text": [
      "10\n",
      "5\n"
     ]
    }
   ],
   "source": [
    "def my_function():\n",
    "    x = 10\n",
    "    print(x)\n",
    "\n",
    "x = 5\n",
    "my_function()\n",
    "print(x)"
   ]
  },
  {
   "cell_type": "markdown",
   "metadata": {},
   "source": [
    "4. Define a class Person in Python with attributes name and age, and a method greet that prints a greeting message including the person's name."
   ]
  },
  {
   "cell_type": "code",
   "execution_count": 15,
   "metadata": {},
   "outputs": [],
   "source": [
    "# Code goes here\n",
    "\n",
    "class Person:\n",
    "    def __init__(self, name, age):\n",
    "        self.name = name\n",
    "        self.age = age\n",
    "\n",
    "    def greet(self):\n",
    "        print(f\"Hello, my name is {self.name} and I am {self.age} years old.\")"
   ]
  },
  {
   "cell_type": "markdown",
   "metadata": {},
   "source": [
    "5. How would you handle exceptions in Python? Write a code snippet that handles a division by zero error."
   ]
  },
  {
   "cell_type": "code",
   "execution_count": 16,
   "metadata": {},
   "outputs": [
    {
     "name": "stdout",
     "output_type": "stream",
     "text": [
      "Error: Division by zero is not allowed.\n"
     ]
    }
   ],
   "source": [
    "# Code goes here \n",
    "\n",
    "try:\n",
    "    result = 10 / 0\n",
    "except ZeroDivisionError:\n",
    "    print(\"Error: Division by zero is not allowed.\")"
   ]
  },
  {
   "cell_type": "markdown",
   "metadata": {},
   "source": [
    "6. Write a list comprehension that generates a list of squares of numbers from 1 to 10."
   ]
  },
  {
   "cell_type": "code",
   "execution_count": 17,
   "metadata": {},
   "outputs": [],
   "source": [
    "# Code goes here \n",
    "\n",
    "squares = [x**2 for x in range(1, 11)]"
   ]
  },
  {
   "cell_type": "markdown",
   "metadata": {},
   "source": [
    "7. Given a dictionary, write a code snippet to print each student's name and score."
   ]
  },
  {
   "cell_type": "code",
   "execution_count": 18,
   "metadata": {},
   "outputs": [
    {
     "name": "stdout",
     "output_type": "stream",
     "text": [
      "Alice: 85\n",
      "Bob: 92\n",
      "Charlie: 78\n"
     ]
    }
   ],
   "source": [
    "student_scores = {'Alice': 85, 'Bob': 92, 'Charlie': 78}\n",
    "\n",
    "for student, score in student_scores.items():\n",
    "    print(f\"{student}: {score}\")"
   ]
  },
  {
   "cell_type": "markdown",
   "metadata": {},
   "source": [
    "8. Create a dataframe using student_scores"
   ]
  },
  {
   "cell_type": "code",
   "execution_count": 19,
   "metadata": {},
   "outputs": [
    {
     "name": "stdout",
     "output_type": "stream",
     "text": [
      "      Name  Score\n",
      "0    Alice     85\n",
      "1      Bob     92\n",
      "2  Charlie     78\n"
     ]
    }
   ],
   "source": [
    "import pandas as pd\n",
    "\n",
    "# Code goes here\n",
    "\n",
    "df = pd.DataFrame(list(student_scores.items()), columns=['Name', 'Score'])\n",
    "print(df)"
   ]
  },
  {
   "cell_type": "markdown",
   "metadata": {},
   "source": [
    "9. Given a DataFrame df with columns Name and Score, write a code snippet to add a new column Grade based on the Score column where scores above 90 are 'A', between 80 and 90 are 'B', and below 80 are 'C'."
   ]
  },
  {
   "cell_type": "code",
   "execution_count": 20,
   "metadata": {},
   "outputs": [
    {
     "name": "stdout",
     "output_type": "stream",
     "text": [
      "      Name  Score Grade\n",
      "0    Alice     85     B\n",
      "1      Bob     92     A\n",
      "2  Charlie     78     C\n"
     ]
    }
   ],
   "source": [
    "# Code goes here \n",
    "\n",
    "def assign_grade(score):\n",
    "    if score > 90:\n",
    "        return 'A'\n",
    "    elif score >= 80:\n",
    "        return 'B'\n",
    "    else:\n",
    "        return 'C'\n",
    "\n",
    "df['Grade'] = df['Score'].apply(assign_grade)\n",
    "print(df)"
   ]
  },
  {
   "cell_type": "markdown",
   "metadata": {},
   "source": [
    "10. Write a code snippet to filter the DataFrame df to include only students with scores greater than 80."
   ]
  },
  {
   "cell_type": "code",
   "execution_count": 21,
   "metadata": {},
   "outputs": [
    {
     "name": "stdout",
     "output_type": "stream",
     "text": [
      "    Name  Score Grade\n",
      "0  Alice     85     B\n",
      "1    Bob     92     A\n"
     ]
    }
   ],
   "source": [
    "# Code goes here \n",
    "\n",
    "filtered_df = df[df['Score'] > 80]\n",
    "print(filtered_df)"
   ]
  },
  {
   "cell_type": "markdown",
   "metadata": {},
   "source": [
    "11. Given a DataFrame df with columns Name, Subject, and Score, write a code snippet to calculate the average score for each subject."
   ]
  },
  {
   "cell_type": "code",
   "execution_count": 22,
   "metadata": {},
   "outputs": [
    {
     "name": "stdout",
     "output_type": "stream",
     "text": [
      "   Subject      Score\n",
      "0  English  86.666667\n",
      "1     Math  85.000000\n",
      "2  Science  90.000000\n"
     ]
    }
   ],
   "source": [
    "students = {\n",
    "    'Alice': {'Math': 85, 'English': 90, 'Science': 95},\n",
    "    'Bob': {'Math': 92, 'English': 88, 'Science': 90},\n",
    "    'Charlie': {'Math': 78, 'English': 82, 'Science': 85}\n",
    "}\n",
    "\n",
    "# Code goes here\n",
    "df = pd.DataFrame([(name, subject, score) for name, subjects in students.items() for subject, score in subjects.items()], columns=['Name', 'Subject', 'Score'])\n",
    "average_scores = df.groupby('Subject')['Score'].mean().reset_index()\n",
    "print(average_scores)"
   ]
  }
 ],
 "metadata": {
  "kernelspec": {
   "display_name": "base",
   "language": "python",
   "name": "python3"
  },
  "language_info": {
   "codemirror_mode": {
    "name": "ipython",
    "version": 3
   },
   "file_extension": ".py",
   "mimetype": "text/x-python",
   "name": "python",
   "nbconvert_exporter": "python",
   "pygments_lexer": "ipython3",
   "version": "3.12.2"
  }
 },
 "nbformat": 4,
 "nbformat_minor": 2
}
